{
 "cells": [
  {
   "cell_type": "markdown",
   "metadata": {},
   "source": [
    "In the cell below, create a Python function that wraps your previous solution for the Bag of Words lab.\n",
    "\n",
    "Requirements:\n",
    "\n",
    "1. Your function should accept the following parameters:\n",
    "    * `docs` [REQUIRED] - array of document paths.\n",
    "    * `stop_words` [OPTIONAL] - array of stop words. The default value is an empty array.\n",
    "\n",
    "1. Your function should return a Python object that contains the following:\n",
    "    * `bag_of_words` - array of strings of normalized unique words in the corpus.\n",
    "    * `term_freq` - array of the term-frequency vectors."
   ]
  },
  {
   "cell_type": "code",
   "execution_count": 26,
   "metadata": {},
   "outputs": [],
   "source": [
    "# Import required libraries\n",
    "import re\n",
    "\n",
    "# Define function\n",
    "def get_bow_from_docs(docs, stop_words=[]):\n",
    "    \n",
    "    # In the function, first define the variables you will use such as `corpus`, `bag_of_words`, and `term_freq`.\n",
    "    \n",
    "    corpus = []\n",
    "    for doc in docs:\n",
    "        corpus.append(open(doc,'r').read())\n",
    "    corpus2 = []\n",
    "    \n",
    "    for i in corpus:\n",
    "        corpus2.append(i.lower().replace(\".\",\"\"))\n",
    "    bag_of_words = []\n",
    "        \n",
    "    for i in corpus2:\n",
    "        words = i.split()\n",
    "        for w in words:\n",
    "            if w not in bag_of_words and w not in stop_words: #and w not in stop_words se agregó\n",
    "                bag_of_words.append(w)\n",
    "#Aquí estamos añadiendo código para quitar más palabras\n",
    "#La idea es convertir stop_words y bag_of_words en sets y lograr quitar la interseccion de stop words y orpus a corpus\n",
    "#Compara los sets es más fácil\n",
    "#Pero si querems mantener el orden, hay que usar solo listas y quitar desde el principio las stopwords\n",
    "\n",
    "\n",
    "\n",
    "#\n",
    "    term_freq =[]\n",
    "    items = []\n",
    "    \n",
    "    for i in corpus2:\n",
    "        items.append(i.split())\n",
    "    \n",
    "    for i in range(len(items)):\n",
    "        temp = []\n",
    "        for y in bag_of_words:\n",
    "            temp.append(items[i].count(y))\n",
    "        term_freq.append(temp)\n",
    "            \n",
    "    \n",
    "    \n",
    "    \"\"\"\n",
    "    Loop `docs` and read the content of each doc into a string in `corpus`.\n",
    "    Remember to convert the doc content to lowercases and remove punctuation.\n",
    "    \"\"\"\n",
    "\n",
    "    \n",
    "    \n",
    "    \"\"\"\n",
    "    Loop `corpus`. Append the terms in each doc into the `bag_of_words` array. The terms in `bag_of_words` \n",
    "    should be unique which means before adding each term you need to check if it's already added to the array.\n",
    "    In addition, check if each term is in the `stop_words` array. Only append the term to `bag_of_words`\n",
    "    if it is not a stop word.\n",
    "    \"\"\"\n",
    "\n",
    "    \n",
    "    \n",
    "    \n",
    "    \"\"\"\n",
    "    Loop `corpus` again. For each doc string, count the number of occurrences of each term in `bag_of_words`. \n",
    "    Create an array for each doc's term frequency and append it to `term_freq`.\n",
    "    \"\"\"\n",
    "\n",
    "    \n",
    "    \n",
    "    # Now return your output as an object\n",
    "    return {\n",
    "        \"bag_of_words\": bag_of_words,\n",
    "        \"term_freq\": term_freq\n",
    "    }\n"
   ]
  },
  {
   "cell_type": "markdown",
   "metadata": {},
   "source": [
    "Test your function without stop words. You should see the output like below:\n",
    "\n",
    "```{'bag_of_words': ['ironhack', 'is', 'cool', 'i', 'love', 'am', 'a', 'student', 'at'], 'term_freq': [[1, 1, 1, 0, 0, 0, 0, 0, 0], [1, 0, 0, 1, 1, 0, 0, 0, 0], [1, 0, 0, 1, 0, 1, 1, 1, 1]]}```"
   ]
  },
  {
   "cell_type": "code",
   "execution_count": 27,
   "metadata": {},
   "outputs": [
    {
     "name": "stdout",
     "output_type": "stream",
     "text": [
      "{'bag_of_words': ['ironhack', 'is', 'cool', 'i', 'love', 'am', 'a', 'student', 'at'], 'term_freq': [[1, 1, 1, 0, 0, 0, 0, 0, 0], [1, 0, 0, 1, 1, 0, 0, 0, 0], [1, 0, 0, 1, 0, 1, 1, 1, 1]]}\n"
     ]
    }
   ],
   "source": [
    "# Define doc paths array\n",
    "docs = ['doc1.txt', 'doc2.txt', 'doc3.txt']\n",
    "\n",
    "# Obtain BoW from your function\n",
    "bow = get_bow_from_docs(docs)\n",
    "\n",
    "# Print BoW\n",
    "print(bow)"
   ]
  },
  {
   "cell_type": "markdown",
   "metadata": {},
   "source": [
    "If your attempt above is successful, nice work done!\n",
    "\n",
    "Now test your function again with the stop words. In the previous lab we defined the stop words in a large array. In this lab, we'll import the stop words from Scikit-Learn."
   ]
  },
  {
   "cell_type": "code",
   "execution_count": 28,
   "metadata": {},
   "outputs": [
    {
     "name": "stdout",
     "output_type": "stream",
     "text": [
      "frozenset({'towards', 'and', 'whereupon', 'former', 'every', 'please', 'three', 'some', 'themselves', 'often', 'eight', 'may', 'seems', 'since', 'six', 'now', 'over', 'system', 'move', 'from', 'thence', 'noone', 'eg', 'enough', 'a', 'below', 'herein', 'etc', 'see', 'those', 'why', 'less', 'although', 'us', 'namely', 'either', 'my', 'though', 'among', 'ten', 'he', 'nevertheless', 'again', 'de', 'myself', 'sixty', 'everyone', 'un', 'nor', 'yourselves', 'fill', 'never', 'her', 'hereupon', 'mill', 'nobody', 'several', 'twelve', 'nine', 'there', 'made', 'find', 'such', 'toward', 'meanwhile', 'each', 'whatever', 'who', 'as', 'somehow', 'cry', 'here', 'ever', 'both', 'not', 'always', 'ie', 'moreover', 'sometimes', 'thereby', 'besides', 'someone', 'yet', 'whether', 'beyond', 'whereafter', 'thru', 'because', 'none', 'whom', 'nothing', 'throughout', 'everything', 'without', 'wherein', 'many', 'anything', 'done', 'empty', 'twenty', 'during', 'at', 'sincere', 'full', 'himself', 'of', 'con', 'ours', 'had', 'between', 'wherever', 'inc', 'after', 'by', 'beforehand', 'most', 'should', 'bottom', 'almost', 'whereas', 'your', 'upon', 'its', 'well', 'everywhere', 'whither', 'get', 'next', 'hundred', 'something', 'take', 'which', 'me', 'nowhere', 'anyhow', 'being', 'fifteen', 'latterly', 'very', 'but', 'all', 'across', 'four', 'his', 'too', 'an', 'go', 'off', 'is', 'sometime', 'along', 'in', 'it', 'via', 'due', 'about', 'becoming', 'hers', 'than', 'fire', 'alone', 'few', 'against', 'perhaps', 'through', 'therein', 'whence', 'couldnt', 'amount', 'behind', 'two', 'to', 'must', 'ltd', 'thereafter', 'beside', 'front', 'she', 'thus', 'them', 'whenever', 'herself', 'five', 'hasnt', 'third', 'found', 'be', 'our', 'could', 'no', 're', 'into', 'they', 'seem', 'side', 'even', 'hereafter', 'became', 'you', 'cannot', 'only', 'were', 'somewhere', 'out', 'up', 'becomes', 'thereupon', 'name', 'become', 'show', 'first', 'detail', 'then', 'what', 'before', 'or', 'hence', 'onto', 'back', 'fifty', 'where', 'yourself', 'else', 'one', 'anyway', 'together', 'much', 'least', 'while', 'same', 'hereby', 'however', 'rather', 'seeming', 'afterwards', 'until', 'keep', 'formerly', 'these', 'anyone', 'cant', 'for', 'per', 'this', 'elsewhere', 'neither', 'more', 'the', 'seemed', 'with', 'that', 'own', 'others', 'bill', 'further', 'also', 'give', 'so', 'would', 'itself', 'whoever', 'are', 'been', 'describe', 'whose', 'around', 'once', 'last', 'put', 'amoungst', 'i', 'amongst', 'co', 'thick', 'mine', 'am', 'can', 'above', 'have', 'other', 'already', 'part', 'call', 'eleven', 'their', 'yours', 'top', 'when', 'do', 'otherwise', 'serious', 'still', 'another', 'on', 'any', 'interest', 'will', 'within', 'therefore', 'might', 'ourselves', 'him', 'forty', 'mostly', 'whereby', 'thin', 'except', 'indeed', 'how', 'latter', 'has', 'down', 'if', 'we', 'whole', 'under', 'anywhere', 'was'})\n"
     ]
    }
   ],
   "source": [
    "from sklearn.feature_extraction import stop_words\n",
    "print(stop_words.ENGLISH_STOP_WORDS)"
   ]
  },
  {
   "cell_type": "markdown",
   "metadata": {},
   "source": [
    "You should have seen a large list of words that looks like:\n",
    "\n",
    "```frozenset({'across', 'mine', 'cannot', ...})```\n",
    "\n",
    "`frozenset` is a type of Python object that is immutable. In this lab you can use it just like an array without conversion."
   ]
  },
  {
   "cell_type": "markdown",
   "metadata": {},
   "source": [
    "Next, test your function with supplying `stop_words.ENGLISH_STOP_WORDS` as the second parameter."
   ]
  },
  {
   "cell_type": "code",
   "execution_count": 29,
   "metadata": {},
   "outputs": [
    {
     "name": "stdout",
     "output_type": "stream",
     "text": [
      "{'bag_of_words': ['ironhack', 'cool', 'love', 'student'], 'term_freq': [[1, 1, 0, 0], [1, 0, 1, 0], [1, 0, 0, 1]]}\n"
     ]
    }
   ],
   "source": [
    "bow = get_bow_from_docs(docs, stop_words.ENGLISH_STOP_WORDS)\n",
    "#en la linea de arriba German cambia el parametro bow por docs, ya lo hice\n",
    "print(bow)"
   ]
  },
  {
   "cell_type": "markdown",
   "metadata": {},
   "source": [
    "You should have seen:\n",
    "\n",
    "```{'bag_of_words': ['ironhack', 'cool', 'love', 'student'], 'term_freq': [[1, 1, 0, 0], [1, 0, 1, 0], [1, 0, 0, 1]]}```"
   ]
  },
  {
   "cell_type": "code",
   "execution_count": null,
   "metadata": {},
   "outputs": [],
   "source": []
  }
 ],
 "metadata": {
  "kernelspec": {
   "display_name": "Python 3",
   "language": "python",
   "name": "python3"
  },
  "language_info": {
   "codemirror_mode": {
    "name": "ipython",
    "version": 3
   },
   "file_extension": ".py",
   "mimetype": "text/x-python",
   "name": "python",
   "nbconvert_exporter": "python",
   "pygments_lexer": "ipython3",
   "version": "3.7.3"
  }
 },
 "nbformat": 4,
 "nbformat_minor": 2
}
